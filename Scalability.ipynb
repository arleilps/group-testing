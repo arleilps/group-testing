{
 "cells": [
  {
   "cell_type": "code",
   "execution_count": 4,
   "metadata": {},
   "outputs": [],
   "source": [
    "import matplotlib.pyplot as plt\n",
    "from util import *\n",
    "from partition import *\n",
    "from group_testing import *\n",
    "from origami_assays import *\n",
    "from epidemics import *\n",
    "from networkx.generators.community import gaussian_random_partition_graph\n",
    "import time"
   ]
  },
  {
   "cell_type": "code",
   "execution_count": 7,
   "metadata": {},
   "outputs": [],
   "source": [
    "#TODO: Set these paths\n",
    "data_folder = \"\"\n",
    "figures_folder = \"\""
   ]
  },
  {
   "cell_type": "code",
   "execution_count": 2,
   "metadata": {},
   "outputs": [],
   "source": [
    "n_vertices = [50, 100, 200, 400, 800]\n",
    "\n",
    "gamma = .1   #Recovery rate\n",
    "tau = .1   #Transmission rate\n",
    "num_init = 1\n",
    "trials = 10000\n",
    "\n",
    "perc_infecs = np.array([.02, .04, .08, .16, .32])\n",
    "sizes = np.arange(2,15)\n",
    "max_group_size = 64\n",
    "\n",
    "group_approaches = ['Top-KL', 'Samp-KL']"
   ]
  },
  {
   "cell_type": "code",
   "execution_count": 6,
   "metadata": {},
   "outputs": [
    {
     "name": "stdout",
     "output_type": "stream",
     "text": [
      "size =  50\n",
      "size =  100\n",
      "size =  200\n",
      "size =  400\n",
      "size =  800\n"
     ]
    }
   ],
   "source": [
    "run_times = np.zeros((len(group_approaches), len(n_vertices)))\n",
    "\n",
    "for n in range(len(n_vertices)):\n",
    "    print(\"size = \", n_vertices[n])\n",
    "    \n",
    "    n_vert = n_vertices[n]\n",
    "    n_edges = n_vert * 5\n",
    "    \n",
    "    G = nx.gnm_random_graph(n_vert, n_edges)\n",
    "    infec_matrix = sample_epidemics(G, tau, gamma, trials, 0.04, num_init, weight=None)\n",
    "    \n",
    "    start_time = time.time()\n",
    "    \n",
    "    i = 0\n",
    "    #Kernighan-Lin topology\n",
    "    if 'Top-KL' in group_approaches:        \n",
    "        best_mean = 100 * G.number_of_nodes()\n",
    "        \n",
    "        size = 10\n",
    "        top_kl =  topol_kernighan_lin(G, size, weight=None, n_iter=1)\n",
    "        res = evaluate_two_level_group_testing(infec_matrix, top_kl)\n",
    "            \n",
    "        run_times[i][n] = time.time() - start_time\n",
    "        \n",
    "        i = i + 1\n",
    " \n",
    "    start_time = time.time()\n",
    "\n",
    "    samp_infec_matrix = sample_epidemics(G, tau, gamma, n_edges, 0.04, num_init, weight=None)\n",
    "        \n",
    "    #Kernighan-Lin sampling\n",
    "    if 'Samp-KL' in group_approaches:\n",
    "        samp_kl = samp_kernighan_lin(G, max_group_size, samp_infec_matrix, n_iter=1)\n",
    "        res = evaluate_two_level_group_testing(infec_matrix, samp_kl)\n",
    "        \n",
    "        run_times[i][n] = time.time() - start_time\n",
    "        \n",
    "        i = i + 1\n",
    "        \n",
    "    "
   ]
  },
  {
   "cell_type": "code",
   "execution_count": 8,
   "metadata": {},
   "outputs": [
    {
     "data": {
      "image/png": "[encoded data removed]",
      "text/plain": [
       "<Figure size 432x288 with 1 Axes>"
      ]
     },
     "metadata": {
      "needs_background": "light"
     },
     "output_type": "display_data"
    }
   ],
   "source": [
    "plt.figure()\n",
    "\n",
    "width = .2\n",
    "\n",
    "plt.plot(n_vertices, run_times[0], color='blue', label='KL-Topology', marker='x', markersize=13)\n",
    "plt.plot(n_vertices, run_times[1], color='red', label='KL-Sampling', marker='o', markersize=13)\n",
    "\n",
    "plt.ylabel(\"time (sec)\", fontsize=20)\n",
    "plt.xlabel(\"#vertices\", fontsize=20)\n",
    "plt.xticks(fontsize=15)\n",
    "plt.yticks(fontsize=15)\n",
    "plt.legend(loc='upper left', fontsize=16, ncol=1)\n",
    "\n",
    "plt.savefig(figures_folder+\"run_time.pdf\", bbox_inches='tight')"
   ]
  }
 ],
 "metadata": {
  "kernelspec": {
   "display_name": "Python 3",
   "language": "python",
   "name": "python3"
  },
  "language_info": {
   "codemirror_mode": {
    "name": "ipython",
    "version": 3
   },
   "file_extension": ".py",
   "mimetype": "text/x-python",
   "name": "python",
   "nbconvert_exporter": "python",
   "pygments_lexer": "ipython3",
   "version": "3.6.5"
  }
 },
 "nbformat": 4,
 "nbformat_minor": 2
}
