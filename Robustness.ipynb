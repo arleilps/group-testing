{
 "cells": [
  {
   "cell_type": "code",
   "execution_count": 1,
   "metadata": {},
   "outputs": [],
   "source": [
    "import matplotlib.pyplot as plt\n",
    "from util import *\n",
    "from partition import *\n",
    "from group_testing import *\n",
    "from origami_assays import *\n",
    "from epidemics import *\n",
    "from networkx.generators.community import gaussian_random_partition_graph"
   ]
  },
  {
   "cell_type": "code",
   "execution_count": 2,
   "metadata": {},
   "outputs": [],
   "source": [
    "#TODO: Set these paths\n",
    "data_folder = \"\"\n",
    "figures_folder = \"\""
   ]
  },
  {
   "cell_type": "code",
   "execution_count": 3,
   "metadata": {},
   "outputs": [
    {
     "name": "stdout",
     "output_type": "stream",
     "text": [
      "#nodes =  327\n",
      "#edges =  2141\n"
     ]
    }
   ],
   "source": [
    "gamma = 1.5   #Recovery rate\n",
    "tau = 40.   #Transmission rate\n",
    "num_init = 1\n",
    "trials = 10000\n",
    "n_samples = 1000\n",
    "repeat = 10\n",
    "missing_edges = np.array([.05, .10, .20, .40, .80]) \n",
    "sizes = np.arange(2,7)\n",
    "max_group_size = 64\n",
    "group_approaches = ['Rand', 'Orig', 'Top-KL', 'Samp-KL']\n",
    "\n",
    "origami_assays = [L3, L4, M2, XL3, XL4, XL6]\n",
    "\n",
    "#High school\n",
    "G = read_contact_net(data_folder+\"High-School_data_2013.csv\", 20)\n",
    "\n",
    "print(\"#nodes = \", G.number_of_nodes())\n",
    "print(\"#edges = \", G.number_of_edges())"
   ]
  },
  {
   "cell_type": "code",
   "execution_count": 6,
   "metadata": {},
   "outputs": [
    {
     "name": "stdout",
     "output_type": "stream",
     "text": [
      "missing  0.05\n",
      "missing  0.1\n",
      "missing  0.2\n",
      "missing  0.4\n",
      "missing  0.8\n"
     ]
    }
   ],
   "source": [
    "avg_missing_edges_primary = np.zeros((len(group_approaches), missing_edges.shape[0]))\n",
    "std_missing_edges_primary = np.zeros((len(group_approaches), missing_edges.shape[0]))\n",
    "\n",
    "infec_matrix = sample_epidemics(G, tau, gamma, trials, 0.04, num_init, weight='weight')\n",
    "\n",
    "for n in range(missing_edges.shape[0]):\n",
    "    miss_edges = int(missing_edges[n] * G.number_of_edges())\n",
    "    \n",
    "    print(\"missing \", missing_edges[n])\n",
    "    \n",
    "    i = 0\n",
    "    #Random\n",
    "    if 'Rand' in group_approaches:\n",
    "        all_res = np.zeros((repeat, trials))\n",
    "        \n",
    "        for r in range(repeat):\n",
    "            G_miss = remove_edges(G, miss_edges)\n",
    "            best_mean = 100 * G.number_of_nodes()\n",
    "            for s in range(sizes.shape[0]):\n",
    "                size = sizes[s]\n",
    "                rand_groups = random_groups(G_miss, size)\n",
    "                res = evaluate_two_level_group_testing(infec_matrix, rand_groups)\n",
    "\n",
    "                if np.mean(res) < best_mean:\n",
    "                    best_mean = np.mean(res)\n",
    "                    all_res[r] = res\n",
    "                 \n",
    "        avg_missing_edges_primary[i][n] = np.mean(all_res)\n",
    "        std_missing_edges_primary[i][n] = np.std(all_res)\n",
    "        i = i + 1\n",
    "                    \n",
    "    #Origami\n",
    "    if 'Orig' in group_approaches:\n",
    "        all_res = np.zeros((repeat, trials))\n",
    "        for r in range(repeat):\n",
    "            best_mean = 100 * G.number_of_nodes()\n",
    "\n",
    "            for s in range(len(origami_assays)):\n",
    "                res = evaluate_origami_assay(np.mean(infec_matrix), origami_assays[s], trials)\n",
    "\n",
    "                if np.mean(res) < best_mean:\n",
    "                    best_mean = np.mean(res)\n",
    "                    all_res[r] = res\n",
    "\n",
    "        avg_missing_edges_primary[i][n] = np.mean(all_res)\n",
    "        std_missing_edges_primary[i][n] = np.std(all_res)\n",
    "        i = i + 1    \n",
    "        \n",
    "    #Kernighan-Lin topology\n",
    "    if 'Top-KL' in group_approaches:\n",
    "        all_res = np.zeros((repeat, trials))\n",
    "        for r in range(repeat):\n",
    "            G_miss = remove_edges(G, miss_edges)\n",
    "            best_mean = 100 * G.number_of_nodes()\n",
    "\n",
    "            for s in range(sizes.shape[0]):\n",
    "                size = sizes[s]\n",
    "                #print(\"size = \", size)\n",
    "                top_kl =  topol_kernighan_lin(G_miss, size, weight='weight', n_iter=2)\n",
    "                res = evaluate_two_level_group_testing(infec_matrix, top_kl)\n",
    "\n",
    "                if np.mean(res) < best_mean:\n",
    "                    best_mean = np.mean(res)\n",
    "                    all_res[r] = res\n",
    "            \n",
    "        avg_missing_edges_primary[i][n] = np.mean(all_res)\n",
    "        std_missing_edges_primary[i][n] = np.mean(all_res)\n",
    "        i = i + 1\n",
    "   \n",
    "    #Kernighan-Lin sampling\n",
    "    if 'Samp-KL' in group_approaches and missing_edges[n] < 0.8:\n",
    "        all_res = np.zeros((repeat, trials))\n",
    "        for r in range(repeat):\n",
    "            samp_infec_matrix = sample_epidemics(G_miss, tau, gamma, n_samples, 0.04, num_init, weight='weight')\n",
    "\n",
    "            G_miss = remove_edges(G, miss_edges)\n",
    "            samp_kl = samp_kernighan_lin(G_miss, max_group_size, samp_infec_matrix)\n",
    "            res = evaluate_two_level_group_testing(infec_matrix, samp_kl)\n",
    "            all_res[r] = res\n",
    "            \n",
    "        avg_missing_edges_primary[i][n] = np.mean(all_res)\n",
    "        std_missing_edges_primary[i][n] = np.std(all_res)\n",
    "        \n",
    "        i = i + 1"
   ]
  },
  {
   "cell_type": "code",
   "execution_count": 7,
   "metadata": {},
   "outputs": [
    {
     "data": {
      "image/png": "[encoded data removed]",
      "text/plain": [
       "<Figure size 432x288 with 1 Axes>"
      ]
     },
     "metadata": {
      "needs_background": "light"
     },
     "output_type": "display_data"
    }
   ],
   "source": [
    "plt.figure()\n",
    "\n",
    "plt.plot(np.arange(0,5), avg_missing_edges_primary[0], color='black', label='Random', marker='|', markersize=13)\n",
    "plt.plot(np.arange(0,5), np.ones(missing_edges.shape[0])*avg_missing_edges_primary[1][-1], color='green', label='Origami', marker='v', markersize=13)\n",
    "plt.plot(np.arange(0,5), avg_missing_edges_primary[2], color='blue', label='KL-Topology', marker='x', markersize=13)\n",
    "plt.plot(np.arange(0,4), avg_missing_edges_primary[3][0:4], color='red', label='KL-Sampling', marker='o', markersize=13)\n",
    "\n",
    "plt.xticks(np.arange(0,5), np.array(100*missing_edges,dtype=int))\n",
    "\n",
    "plt.ylabel(\"tests/person\", fontsize=20)\n",
    "plt.xlabel(\"missing edges (%)\", fontsize=20)\n",
    "plt.xticks(fontsize=15)\n",
    "plt.yticks(.1*np.arange(0,5), fontsize=15)\n",
    "plt.legend(loc='lower center', fontsize=16, ncol=2)\n",
    "plt.ylim(0,.43)\n",
    "\n",
    "plt.savefig(figures_folder+\"n_infected_tests_missing_high_school.pdf\", bbox_inches='tight')"
   ]
  }
 ],
 "metadata": {
  "kernelspec": {
   "display_name": "Python 3",
   "language": "python",
   "name": "python3"
  },
  "language_info": {
   "codemirror_mode": {
    "name": "ipython",
    "version": 3
   },
   "file_extension": ".py",
   "mimetype": "text/x-python",
   "name": "python",
   "nbconvert_exporter": "python",
   "pygments_lexer": "ipython3",
   "version": "3.6.5"
  }
 },
 "nbformat": 4,
 "nbformat_minor": 2
}
